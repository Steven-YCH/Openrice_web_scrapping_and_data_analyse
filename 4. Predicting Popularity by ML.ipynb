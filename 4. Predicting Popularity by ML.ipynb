{
 "cells": [
  {
   "cell_type": "markdown",
   "id": "717e7861",
   "metadata": {},
   "source": [
    "<h1>OpenRice Data Analyse</h1>\n",
    "<h2> Part 4 - Predicting Popularity by ML</h2>\n",
    "Using Name of Bookmark as indicator of popularity, predicting using XG Boost"
   ]
  },
  {
   "cell_type": "markdown",
   "id": "c59d3def",
   "metadata": {},
   "source": [
    "<h2>Step 1: Features Engineering</h2>"
   ]
  },
  {
   "cell_type": "code",
   "execution_count": 137,
   "id": "cfdf2daf",
   "metadata": {},
   "outputs": [],
   "source": [
    "import pandas as pd\n",
    "import mysql.connector\n",
    "from sklearn.preprocessing import MultiLabelBinarizer \n",
    "from xgboost import XGBRegressor, plot_importance\n",
    "import matplotlib.pyplot as plt\n",
    "import seaborn as sns\n",
    "import numpy as np\n",
    "from sklearn.model_selection import train_test_split, GridSearchCV\n",
    "from sklearn.metrics import mean_absolute_error, mean_squared_error, r2_score\n",
    "import pickle"
   ]
  },
  {
   "cell_type": "code",
   "execution_count": 138,
   "id": "05ebe3c6",
   "metadata": {},
   "outputs": [],
   "source": [
    "%matplotlib inline"
   ]
  },
  {
   "cell_type": "code",
   "execution_count": 139,
   "id": "80e2610b",
   "metadata": {},
   "outputs": [],
   "source": [
    "# Set up database connection parameters\n",
    "config = {\n",
    "    'user': 'root',\n",
    "    'password': '{password}',\n",
    "    'host': 'localhost',\n",
    "    'database': 'openrice'\n",
    "}\n",
    "\n",
    "# Create a connection object\n",
    "cnx = mysql.connector.connect(**config)"
   ]
  },
  {
   "cell_type": "code",
   "execution_count": 140,
   "id": "4923dd5a",
   "metadata": {},
   "outputs": [],
   "source": [
    "sql = '''\n",
    "SELECT restaurant_id, bookmark, price, cuisine_clean, dish_clean, emoji_smile, emoji_ok, emoji_cry, review_cnt, photo_cnt, datediff(update_date, latest_review) as date_gap_since_latest_review\n",
    "FROM OPENRICE.PUBLISH_RESTAURANTS\n",
    "where bookmark is not null\n",
    "'''\n",
    "df = pd.read_sql(sql,cnx)"
   ]
  },
  {
   "cell_type": "code",
   "execution_count": 141,
   "id": "7d76f89d",
   "metadata": {},
   "outputs": [],
   "source": [
    "cnx.close()"
   ]
  },
  {
   "cell_type": "code",
   "execution_count": 142,
   "id": "742b6419",
   "metadata": {},
   "outputs": [],
   "source": [
    "df['cuisine_clean'] = df['cuisine_clean'].fillna('')\n",
    "df['dish_clean'] = df['dish_clean'].fillna('')\n",
    "mlb = MultiLabelBinarizer()\n",
    "cuisine_dummies = pd.DataFrame(mlb.fit_transform(df['cuisine_clean'].str.split('/')), columns=[f'cuisine_{c}' for c in mlb.classes_])\n",
    "dish_dummies = pd.DataFrame(mlb.fit_transform(df['dish_clean'].str.split('/')), columns=[f'dish_{d}' for d in mlb.classes_])\n",
    "df = pd.concat([df, cuisine_dummies, dish_dummies], axis=1)\n",
    "df.drop(['cuisine_clean', 'dish_clean','cuisine_','dish_'], axis=1, inplace=True)"
   ]
  },
  {
   "cell_type": "code",
   "execution_count": 143,
   "id": "5d25390b",
   "metadata": {},
   "outputs": [],
   "source": [
    "# Fill in missing values in the date_gap_since_latest_review column\n",
    "df['date_gap_since_latest_review'].fillna(9999, inplace=True)\n",
    "price_mapper = {\"Below $50\":1,'$51-100':2,'$101-200':3,'$201-400':4,'$401-800':5,'Above $801':6}\n",
    "df.drop('restaurant_id', axis=1,inplace = True)\n",
    "df['price'] = df['price'].replace(price_mapper)"
   ]
  },
  {
   "cell_type": "code",
   "execution_count": 144,
   "id": "17fc72a5",
   "metadata": {},
   "outputs": [
    {
     "data": {
      "text/plain": [
       "False"
      ]
     },
     "execution_count": 144,
     "metadata": {},
     "output_type": "execute_result"
    }
   ],
   "source": [
    "df.isnull().values.any()"
   ]
  },
  {
   "cell_type": "code",
   "execution_count": 145,
   "id": "db6d6703",
   "metadata": {},
   "outputs": [
    {
     "data": {
      "text/html": [
       "<div>\n",
       "<style scoped>\n",
       "    .dataframe tbody tr th:only-of-type {\n",
       "        vertical-align: middle;\n",
       "    }\n",
       "\n",
       "    .dataframe tbody tr th {\n",
       "        vertical-align: top;\n",
       "    }\n",
       "\n",
       "    .dataframe thead th {\n",
       "        text-align: right;\n",
       "    }\n",
       "</style>\n",
       "<table border=\"1\" class=\"dataframe\">\n",
       "  <thead>\n",
       "    <tr style=\"text-align: right;\">\n",
       "      <th></th>\n",
       "      <th>bookmark</th>\n",
       "      <th>price</th>\n",
       "      <th>emoji_smile</th>\n",
       "      <th>emoji_ok</th>\n",
       "      <th>emoji_cry</th>\n",
       "      <th>review_cnt</th>\n",
       "      <th>photo_cnt</th>\n",
       "      <th>date_gap_since_latest_review</th>\n",
       "      <th>cuisine_1001</th>\n",
       "      <th>cuisine_1002</th>\n",
       "      <th>...</th>\n",
       "      <th>dish_1085</th>\n",
       "      <th>dish_1086</th>\n",
       "      <th>dish_1200</th>\n",
       "      <th>dish_1201</th>\n",
       "      <th>dish_1202</th>\n",
       "      <th>dish_1203</th>\n",
       "      <th>dish_1204</th>\n",
       "      <th>dish_1205</th>\n",
       "      <th>dish_1206</th>\n",
       "      <th>dish_1302</th>\n",
       "    </tr>\n",
       "  </thead>\n",
       "  <tbody>\n",
       "    <tr>\n",
       "      <th>0</th>\n",
       "      <td>1142.0</td>\n",
       "      <td>4</td>\n",
       "      <td>27.0</td>\n",
       "      <td>0.0</td>\n",
       "      <td>2.0</td>\n",
       "      <td>35.0</td>\n",
       "      <td>336.0</td>\n",
       "      <td>11.0</td>\n",
       "      <td>0</td>\n",
       "      <td>0</td>\n",
       "      <td>...</td>\n",
       "      <td>0</td>\n",
       "      <td>0</td>\n",
       "      <td>0</td>\n",
       "      <td>0</td>\n",
       "      <td>0</td>\n",
       "      <td>0</td>\n",
       "      <td>0</td>\n",
       "      <td>0</td>\n",
       "      <td>0</td>\n",
       "      <td>0</td>\n",
       "    </tr>\n",
       "    <tr>\n",
       "      <th>1</th>\n",
       "      <td>16.0</td>\n",
       "      <td>1</td>\n",
       "      <td>0.0</td>\n",
       "      <td>0.0</td>\n",
       "      <td>0.0</td>\n",
       "      <td>0.0</td>\n",
       "      <td>0.0</td>\n",
       "      <td>9999.0</td>\n",
       "      <td>0</td>\n",
       "      <td>1</td>\n",
       "      <td>...</td>\n",
       "      <td>0</td>\n",
       "      <td>0</td>\n",
       "      <td>0</td>\n",
       "      <td>0</td>\n",
       "      <td>0</td>\n",
       "      <td>0</td>\n",
       "      <td>0</td>\n",
       "      <td>0</td>\n",
       "      <td>0</td>\n",
       "      <td>0</td>\n",
       "    </tr>\n",
       "    <tr>\n",
       "      <th>2</th>\n",
       "      <td>3042.0</td>\n",
       "      <td>1</td>\n",
       "      <td>72.0</td>\n",
       "      <td>5.0</td>\n",
       "      <td>0.0</td>\n",
       "      <td>91.0</td>\n",
       "      <td>528.0</td>\n",
       "      <td>33.0</td>\n",
       "      <td>0</td>\n",
       "      <td>0</td>\n",
       "      <td>...</td>\n",
       "      <td>0</td>\n",
       "      <td>0</td>\n",
       "      <td>0</td>\n",
       "      <td>0</td>\n",
       "      <td>0</td>\n",
       "      <td>0</td>\n",
       "      <td>0</td>\n",
       "      <td>0</td>\n",
       "      <td>0</td>\n",
       "      <td>0</td>\n",
       "    </tr>\n",
       "    <tr>\n",
       "      <th>3</th>\n",
       "      <td>1193.0</td>\n",
       "      <td>4</td>\n",
       "      <td>4.0</td>\n",
       "      <td>1.0</td>\n",
       "      <td>0.0</td>\n",
       "      <td>6.0</td>\n",
       "      <td>57.0</td>\n",
       "      <td>13.0</td>\n",
       "      <td>0</td>\n",
       "      <td>0</td>\n",
       "      <td>...</td>\n",
       "      <td>0</td>\n",
       "      <td>0</td>\n",
       "      <td>0</td>\n",
       "      <td>0</td>\n",
       "      <td>0</td>\n",
       "      <td>1</td>\n",
       "      <td>0</td>\n",
       "      <td>0</td>\n",
       "      <td>0</td>\n",
       "      <td>0</td>\n",
       "    </tr>\n",
       "    <tr>\n",
       "      <th>4</th>\n",
       "      <td>50.0</td>\n",
       "      <td>3</td>\n",
       "      <td>0.0</td>\n",
       "      <td>0.0</td>\n",
       "      <td>0.0</td>\n",
       "      <td>0.0</td>\n",
       "      <td>18.0</td>\n",
       "      <td>9999.0</td>\n",
       "      <td>0</td>\n",
       "      <td>0</td>\n",
       "      <td>...</td>\n",
       "      <td>0</td>\n",
       "      <td>0</td>\n",
       "      <td>0</td>\n",
       "      <td>0</td>\n",
       "      <td>0</td>\n",
       "      <td>0</td>\n",
       "      <td>0</td>\n",
       "      <td>0</td>\n",
       "      <td>0</td>\n",
       "      <td>0</td>\n",
       "    </tr>\n",
       "  </tbody>\n",
       "</table>\n",
       "<p>5 rows × 119 columns</p>\n",
       "</div>"
      ],
      "text/plain": [
       "   bookmark  price  emoji_smile  emoji_ok  emoji_cry  review_cnt  photo_cnt  \\\n",
       "0    1142.0      4         27.0       0.0        2.0        35.0      336.0   \n",
       "1      16.0      1          0.0       0.0        0.0         0.0        0.0   \n",
       "2    3042.0      1         72.0       5.0        0.0        91.0      528.0   \n",
       "3    1193.0      4          4.0       1.0        0.0         6.0       57.0   \n",
       "4      50.0      3          0.0       0.0        0.0         0.0       18.0   \n",
       "\n",
       "   date_gap_since_latest_review  cuisine_1001  cuisine_1002  ...  dish_1085  \\\n",
       "0                          11.0             0             0  ...          0   \n",
       "1                        9999.0             0             1  ...          0   \n",
       "2                          33.0             0             0  ...          0   \n",
       "3                          13.0             0             0  ...          0   \n",
       "4                        9999.0             0             0  ...          0   \n",
       "\n",
       "   dish_1086  dish_1200  dish_1201  dish_1202  dish_1203  dish_1204  \\\n",
       "0          0          0          0          0          0          0   \n",
       "1          0          0          0          0          0          0   \n",
       "2          0          0          0          0          0          0   \n",
       "3          0          0          0          0          1          0   \n",
       "4          0          0          0          0          0          0   \n",
       "\n",
       "   dish_1205  dish_1206  dish_1302  \n",
       "0          0          0          0  \n",
       "1          0          0          0  \n",
       "2          0          0          0  \n",
       "3          0          0          0  \n",
       "4          0          0          0  \n",
       "\n",
       "[5 rows x 119 columns]"
      ]
     },
     "execution_count": 145,
     "metadata": {},
     "output_type": "execute_result"
    }
   ],
   "source": [
    "df.head()"
   ]
  },
  {
   "cell_type": "markdown",
   "id": "32a47f17",
   "metadata": {},
   "source": [
    "<h2>Step 2: Model Training</h2>"
   ]
  },
  {
   "cell_type": "code",
   "execution_count": 91,
   "id": "c0e9f753",
   "metadata": {},
   "outputs": [],
   "source": [
    "df_rel = df[['bookmark', 'price', 'emoji_smile', 'emoji_ok', 'emoji_cry',\n",
    "       'review_cnt', 'photo_cnt', 'date_gap_since_latest_review']]"
   ]
  },
  {
   "cell_type": "code",
   "execution_count": 92,
   "id": "11ef17e3",
   "metadata": {},
   "outputs": [
    {
     "data": {
      "text/plain": [
       "<AxesSubplot:>"
      ]
     },
     "execution_count": 92,
     "metadata": {},
     "output_type": "execute_result"
    },
    {
     "data": {
      "image/png": "[encoded data removed]",
      "text/plain": [
       "<Figure size 1440x360 with 2 Axes>"
      ]
     },
     "metadata": {
      "needs_background": "light"
     },
     "output_type": "display_data"
    }
   ],
   "source": [
    "plt.figure(figsize=(20,5))\n",
    "mask = np.triu(np.ones_like(df_rel.corr(), dtype=np.bool))\n",
    "sns.heatmap(df_rel.corr(), vmin=-1, vmax=1, annot=True, mask=mask)"
   ]
  },
  {
   "cell_type": "code",
   "execution_count": 146,
   "id": "17693a2d",
   "metadata": {},
   "outputs": [],
   "source": [
    "X = df.drop('bookmark', axis=1)\n",
    "y = df['bookmark']\n",
    "X_train, X_test, y_train, y_test = train_test_split(X, y, test_size=0.2, random_state=42)"
   ]
  },
  {
   "cell_type": "code",
   "execution_count": 148,
   "id": "6ee6aa10",
   "metadata": {},
   "outputs": [
    {
     "data": {
      "text/plain": [
       "GridSearchCV(cv=5,\n",
       "             estimator=XGBRegressor(base_score=None, booster=None,\n",
       "                                    colsample_bylevel=None,\n",
       "                                    colsample_bynode=None,\n",
       "                                    colsample_bytree=None, gamma=None,\n",
       "                                    gpu_id=None, importance_type='gain',\n",
       "                                    interaction_constraints=None,\n",
       "                                    learning_rate=None, max_delta_step=None,\n",
       "                                    max_depth=None, min_child_weight=None,\n",
       "                                    missing=nan, monotone_constraints=None,\n",
       "                                    n_estimators=100, n_jobs=None,\n",
       "                                    num_parallel_tree=None, random_state=None,\n",
       "                                    reg_alpha=None, reg_lambda=None,\n",
       "                                    scale_pos_weight=None, subsample=None,\n",
       "                                    tree_method=None, validate_parameters=None,\n",
       "                                    verbosity=None),\n",
       "             param_grid={'gamma': [0, 0.25, 1], 'learning_rate': [1, 0.1, 0.01],\n",
       "                         'max_depth': [3, 4, 5],\n",
       "                         'n_estimators': [100, 300, 500]})"
      ]
     },
     "execution_count": 148,
     "metadata": {},
     "output_type": "execute_result"
    }
   ],
   "source": [
    "param_grid = {\n",
    "    'learning_rate': [1,0.1,0.01],\n",
    "    'max_depth': [3,4,5],\n",
    "    'n_estimators': [100,300,500],\n",
    "    'gamma': [0,0.25,1]\n",
    "}\n",
    "\n",
    "xgb = XGBRegressor()\n",
    "\n",
    "grid_search = GridSearchCV(estimator=xgb, param_grid=param_grid, cv=5)\n",
    "grid_search.fit(X_train, y_train)"
   ]
  },
  {
   "cell_type": "code",
   "execution_count": 149,
   "id": "51a1f166",
   "metadata": {},
   "outputs": [
    {
     "name": "stdout",
     "output_type": "stream",
     "text": [
      "Best parameters: {'gamma': 0, 'learning_rate': 0.01, 'max_depth': 4, 'n_estimators': 500}\n",
      "Best score: 0.7691764648044993\n"
     ]
    }
   ],
   "source": [
    "print('Best parameters:', grid_search.best_params_)\n",
    "print('Best score:', grid_search.best_score_)"
   ]
  },
  {
   "cell_type": "code",
   "execution_count": 150,
   "id": "21f122bc",
   "metadata": {},
   "outputs": [
    {
     "name": "stdout",
     "output_type": "stream",
     "text": [
      "Score: 0.7721583855069629\n"
     ]
    }
   ],
   "source": [
    "best_xgb = XGBRegressor(**grid_search.best_params_)\n",
    "best_xgb.fit(X_train, y_train)\n",
    "\n",
    "# Evaluate the model on the test set\n",
    "score = best_xgb.score(X_test, y_test)\n",
    "print('Score:', score)"
   ]
  },
  {
   "cell_type": "code",
   "execution_count": 164,
   "id": "58e1c5f3",
   "metadata": {},
   "outputs": [
    {
     "data": {
      "text/plain": [
       "array([0.02883017, 0.03120176, 0.07051582, 0.01451223, 0.17976552,\n",
       "       0.3167238 , 0.00974804, 0.        , 0.01405393, 0.00033886,\n",
       "       0.        , 0.        , 0.        , 0.        , 0.        ,\n",
       "       0.        , 0.        , 0.        , 0.00349454, 0.00442748,\n",
       "       0.        , 0.        , 0.        , 0.        , 0.        ,\n",
       "       0.        , 0.        , 0.00773946, 0.        , 0.        ,\n",
       "       0.        , 0.        , 0.        , 0.        , 0.        ,\n",
       "       0.00629785, 0.        , 0.        , 0.        , 0.        ,\n",
       "       0.        , 0.        , 0.        , 0.        , 0.        ,\n",
       "       0.        , 0.02236461, 0.        , 0.        , 0.00537983,\n",
       "       0.00863497, 0.00458199, 0.        , 0.00568542, 0.        ,\n",
       "       0.        , 0.        , 0.00928196, 0.        , 0.        ,\n",
       "       0.        , 0.00723964, 0.        , 0.00849804, 0.        ,\n",
       "       0.        , 0.        , 0.01390097, 0.        , 0.01920234,\n",
       "       0.        , 0.01258369, 0.        , 0.02313029, 0.00508594,\n",
       "       0.00274357, 0.        , 0.00744763, 0.        , 0.        ,\n",
       "       0.0329308 , 0.        , 0.00729762, 0.        , 0.        ,\n",
       "       0.00842009, 0.0100051 , 0.        , 0.        , 0.        ,\n",
       "       0.01390366, 0.        , 0.        , 0.00503624, 0.        ,\n",
       "       0.        , 0.        , 0.        , 0.00589885, 0.        ,\n",
       "       0.00946076, 0.01087929, 0.        , 0.        , 0.        ,\n",
       "       0.        , 0.        , 0.        , 0.        , 0.        ,\n",
       "       0.01067043, 0.        , 0.01136164, 0.011243  , 0.        ,\n",
       "       0.00126211, 0.        , 0.01822011], dtype=float32)"
      ]
     },
     "execution_count": 164,
     "metadata": {},
     "output_type": "execute_result"
    }
   ],
   "source": [
    "best_xgb.feature_importances_\n"
   ]
  },
  {
   "cell_type": "code",
   "execution_count": 155,
   "id": "22f1666f",
   "metadata": {},
   "outputs": [
    {
     "data": {
      "text/plain": [
       "<AxesSubplot:xlabel='Importance', ylabel='Feature'>"
      ]
     },
     "execution_count": 155,
     "metadata": {},
     "output_type": "execute_result"
    },
    {
     "data": {
      "image/png": "[encoded data removed]",
      "text/plain": [
       "<Figure size 432x288 with 1 Axes>"
      ]
     },
     "metadata": {
      "needs_background": "light"
     },
     "output_type": "display_data"
    }
   ],
   "source": [
    "featureImp= []\n",
    "for feat, importance in zip(X_train.columns, best_xgb.feature_importances_):  \n",
    "    if importance > 0:\n",
    "        temp = [feat, importance*100]\n",
    "        featureImp.append(temp)\n",
    "model_df = pd.DataFrame(featureImp,columns = ['Feature', 'Importance']).sort_values('Importance', ascending = False)\n",
    "sns.barplot(x=model_df['Importance'], y=model_df['Feature'])"
   ]
  },
  {
   "cell_type": "code",
   "execution_count": 160,
   "id": "e68434b1",
   "metadata": {},
   "outputs": [
    {
     "data": {
      "text/html": [
       "<div>\n",
       "<style scoped>\n",
       "    .dataframe tbody tr th:only-of-type {\n",
       "        vertical-align: middle;\n",
       "    }\n",
       "\n",
       "    .dataframe tbody tr th {\n",
       "        vertical-align: top;\n",
       "    }\n",
       "\n",
       "    .dataframe thead th {\n",
       "        text-align: right;\n",
       "    }\n",
       "</style>\n",
       "<table border=\"1\" class=\"dataframe\">\n",
       "  <thead>\n",
       "    <tr style=\"text-align: right;\">\n",
       "      <th></th>\n",
       "      <th>Feature</th>\n",
       "      <th>Importance</th>\n",
       "    </tr>\n",
       "  </thead>\n",
       "  <tbody>\n",
       "    <tr>\n",
       "      <th>5</th>\n",
       "      <td>photo_cnt</td>\n",
       "      <td>31.672379</td>\n",
       "    </tr>\n",
       "    <tr>\n",
       "      <th>4</th>\n",
       "      <td>review_cnt</td>\n",
       "      <td>17.976552</td>\n",
       "    </tr>\n",
       "    <tr>\n",
       "      <th>2</th>\n",
       "      <td>emoji_ok</td>\n",
       "      <td>7.051582</td>\n",
       "    </tr>\n",
       "    <tr>\n",
       "      <th>28</th>\n",
       "      <td>dish_1018</td>\n",
       "      <td>3.293080</td>\n",
       "    </tr>\n",
       "    <tr>\n",
       "      <th>1</th>\n",
       "      <td>emoji_smile</td>\n",
       "      <td>3.120176</td>\n",
       "    </tr>\n",
       "    <tr>\n",
       "      <th>0</th>\n",
       "      <td>price</td>\n",
       "      <td>2.883017</td>\n",
       "    </tr>\n",
       "    <tr>\n",
       "      <th>24</th>\n",
       "      <td>dish_1008</td>\n",
       "      <td>2.313029</td>\n",
       "    </tr>\n",
       "    <tr>\n",
       "      <th>13</th>\n",
       "      <td>cuisine_3006</td>\n",
       "      <td>2.236461</td>\n",
       "    </tr>\n",
       "    <tr>\n",
       "      <th>22</th>\n",
       "      <td>dish_1003</td>\n",
       "      <td>1.920234</td>\n",
       "    </tr>\n",
       "    <tr>\n",
       "      <th>41</th>\n",
       "      <td>dish_1302</td>\n",
       "      <td>1.822011</td>\n",
       "    </tr>\n",
       "  </tbody>\n",
       "</table>\n",
       "</div>"
      ],
      "text/plain": [
       "         Feature  Importance\n",
       "5      photo_cnt   31.672379\n",
       "4     review_cnt   17.976552\n",
       "2       emoji_ok    7.051582\n",
       "28     dish_1018    3.293080\n",
       "1    emoji_smile    3.120176\n",
       "0          price    2.883017\n",
       "24     dish_1008    2.313029\n",
       "13  cuisine_3006    2.236461\n",
       "22     dish_1003    1.920234\n",
       "41     dish_1302    1.822011"
      ]
     },
     "execution_count": 160,
     "metadata": {},
     "output_type": "execute_result"
    }
   ],
   "source": [
    "model_df.head(10)"
   ]
  },
  {
   "cell_type": "markdown",
   "id": "9063934c",
   "metadata": {},
   "source": [
    "<h2>Step 3: Save the Model</h2>"
   ]
  },
  {
   "cell_type": "code",
   "execution_count": 168,
   "id": "a90cd16f",
   "metadata": {},
   "outputs": [],
   "source": [
    "best_xgb.save_model('./xgb_model.json')"
   ]
  },
  {
   "cell_type": "code",
   "execution_count": 171,
   "id": "6e93da8a",
   "metadata": {},
   "outputs": [],
   "source": [
    "xgb_model = XGBRegressor()\n",
    "xgb_model.load_model(\"./xgb_model.json\")"
   ]
  },
  {
   "cell_type": "code",
   "execution_count": 180,
   "id": "38c5dc83",
   "metadata": {},
   "outputs": [
    {
     "data": {
      "text/plain": [
       "array([  179.45142,  2657.3733 ,  1354.785  , 15795.165  ,  4285.4297 ,\n",
       "         320.2122 ,  6435.9937 ,  7965.759  ,  3367.5315 ,   165.98122],\n",
       "      dtype=float32)"
      ]
     },
     "execution_count": 180,
     "metadata": {},
     "output_type": "execute_result"
    }
   ],
   "source": [
    "xgb_model.predict(df.drop('bookmark', axis=1).iloc[300:310])"
   ]
  }
 ],
 "metadata": {
  "kernelspec": {
   "display_name": "Python 3",
   "language": "python",
   "name": "python3"
  },
  "language_info": {
   "codemirror_mode": {
    "name": "ipython",
    "version": 3
   },
   "file_extension": ".py",
   "mimetype": "text/x-python",
   "name": "python",
   "nbconvert_exporter": "python",
   "pygments_lexer": "ipython3",
   "version": "3.8.8"
  }
 },
 "nbformat": 4,
 "nbformat_minor": 5
}
